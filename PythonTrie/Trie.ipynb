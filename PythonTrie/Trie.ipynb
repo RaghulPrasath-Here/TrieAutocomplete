{
 "cells": [
  {
   "cell_type": "markdown",
   "id": "56850c2b-4bac-4aa4-8ff2-ed1e1d3f1a63",
   "metadata": {},
   "source": [
    "# Word Search Suggestion System\n",
    "\n",
    "This project is a prototype of a search suggestion system, inspired by how modern search engines provide real-time recommendations as users type. The system simulates the behavior of autocomplete features commonly seen in search engines like Google, where the most relevant or frequently selected terms appear at the top of the suggestion list.\n",
    "\n",
    "## The primary goal is to build a system that:\n",
    "\n",
    "- Efficiently retrieves all words that begin with a given prefix.\n",
    "- Suggests alternative or similar words when an exact prefix match isn't found.\n",
    "- Sorts suggestions based on how frequently they have been selected in the past.\n",
    "\n",
    "The prototype mimics this behavior using a simplified dataset of words and tracks how often each word is chosen, enabling dynamic and frequency-based sorting of results.\n",
    "\n",
    "## Data Structures\n",
    "\n",
    "- Trie (Prefix Tree):\n",
    "A trie is used to store the list of words in a structured way that allows fast retrieval based on prefixes. This ensures that, given a search string, all matching words can be found efficiently by traversing down the trie.\n",
    "\n",
    "- HashMap (Dictionary):\n",
    "A dictionary (searchedWords) is used to track how many times each word has been selected. This enables the system to sort and prioritize frequently chosen words in future search results.\n",
    "\n",
    "## Algorithms\n",
    "\n",
    "- Depth-First Search (DFS):\n",
    "DFS is used to recursively traverse the trie and collect all words that share a given prefix. This is essential when we need to suggest all possible completions for a user's input.\n",
    "\n",
    "- Quick Sort:\n",
    "Once potential suggestions are found, they are sorted based on their frequency using Quick Sort. This helps ensure that more popular search terms appear earlier in the list of recommendations.\n",
    "\n",
    "\n"
   ]
  },
  {
   "cell_type": "markdown",
   "id": "6a561989-0dbc-4d91-97fc-80efec47e462",
   "metadata": {},
   "source": [
    "## TrieNode\n",
    "\n",
    "The TrieNode class is the fundamental building block of a Trie data structure. It defines the structure and attributes of each node within the Trie.\n",
    "\n",
    "### Each node contains the following attributes:\n",
    "\n",
    "- value : Represents the character stored at the current node. It typically holds a character from the set [a-zA-Z0-9], but can also support special characters depending on the use case.\n",
    "\n",
    "- children : A dictionary that maps each child character to its corresponding TrieNode. This allows dynamic branching for every possible continuation of the prefix.\n",
    "\n",
    "- isEnd : A boolean flag that indicates whether this node marks the end of a valid word in the Trie. This is essential for distinguishing complete words from prefixes."
   ]
  },
  {
   "cell_type": "code",
   "execution_count": 4,
   "id": "ee1b67d9-abb8-4dd6-bff5-08c60226015d",
   "metadata": {},
   "outputs": [],
   "source": [
    "class TrieNode:\n",
    "    def __init__(self, value):\n",
    "        self.value = value\n",
    "        self.children = {}\n",
    "        self.isEnd = False\n",
    "\n",
    "    def __str__(self):\n",
    "        return f\"value : {self.value}, children : {list(self.children.keys())}\""
   ]
  },
  {
   "cell_type": "markdown",
   "id": "ce341339-ab67-4910-adcd-acd5aa1e8c15",
   "metadata": {},
   "source": [
    "## Trie\n",
    "\n",
    "The Trie class provides the complete implementation of a Trie (Prefix Tree)—a tree-like data structure optimized for fast retrieval of strings, particularly useful for tasks such as autocomplete, spell checking, and prefix-based searching.\n",
    "\n",
    "The Trie starts with an empty root node (startNode), represented by a TrieNode initialized with a space character \" \". All words inserted into the Trie branch out from this root node via its children dictionary.\n",
    "\n",
    "### Methods\n",
    "\n",
    "#### __init__()\n",
    "\n",
    "Initializes the Trie with a root node. This node does not hold any character from an actual word but acts as the starting point for all insertions and searches.\n",
    "\n",
    "#### insert(word: str) -> None : \n",
    "Inserts a word into the Trie\n",
    "\n",
    "- Iterates over each character in the word.\n",
    "- If the character already exists in the current node's children, it moves to that node.\n",
    "- If not, it creates a new TrieNode and adds it to the children.\n",
    "- After inserting all characters, it marks the final node's isEnd flag as True to indicate the end of a valid word.\n",
    "\n",
    "#### search(word: str) -> bool : \n",
    "Searches for a complete word in the Trie. This method is not used in the prototype but its part of the implementation\n",
    "\n",
    "- Traverses the Trie character by character.\n",
    "- Returns False if any character is not found.\n",
    "- Returns True only if the traversal ends at a node where isEnd is True, confirming it's a complete word in the Trie.\n",
    "\n",
    "#### startsWith(prefix: str) -> object\n",
    "Checks if any word in the Trie starts with the given prefix.\n",
    "\n",
    "- Traverses the Trie through the given prefix.\n",
    "- Returns the node where the prefix traversal ends if it exists.\n",
    "- Returns None if the prefix is not found.\n",
    "\n",
    "This method is especially useful for retrieving all words that share a common prefix, enabling powerful features like autocompletion.\n",
    "\n"
   ]
  },
  {
   "cell_type": "code",
   "execution_count": 5,
   "id": "def4ea04-8d99-474a-b8f0-be618b56878e",
   "metadata": {},
   "outputs": [],
   "source": [
    "class Trie:\n",
    "    def __init__(self):\n",
    "        self.startNode = TrieNode(\" \")\n",
    "\n",
    "    def insert(self, word: str) -> None:\n",
    "        currentNode = self.startNode\n",
    "        for c in word:\n",
    "            if c in currentNode.children:\n",
    "                currentNode = currentNode.children[c]\n",
    "            else:\n",
    "                node = TrieNode(c)\n",
    "                currentNode.children[c] = node\n",
    "                currentNode = node\n",
    "        \n",
    "        currentNode.isEnd = True\n",
    "\n",
    "    def search(self, word: str) -> bool:\n",
    "        currentNode = self.startNode\n",
    "        for c in word:\n",
    "            if c in currentNode.children:\n",
    "                currentNode = currentNode.children[c]\n",
    "            else:\n",
    "                return False\n",
    "\n",
    "        return currentNode.isEnd\n",
    "\n",
    "    def startsWith(self, prefix: str) -> object:\n",
    "        currentNode = self.startNode\n",
    "        for c in prefix:\n",
    "            if c in currentNode.children:\n",
    "                currentNode = currentNode.children[c]\n",
    "            else:\n",
    "                return None\n",
    "        \n",
    "        return currentNode\n"
   ]
  },
  {
   "cell_type": "markdown",
   "id": "d3bdc0e0-d2e5-44ab-9ff1-9f917ca5fefb",
   "metadata": {},
   "source": [
    "## Helper methods\n",
    "\n",
    "These utility functions support the core functionality of the Word Search Suggestion System. They handle tasks such as traversing the trie, sorting, and checking character relationships—ensuring that suggestions are relevant, correctly ordered, and efficiently retrieved.\n",
    "\n",
    "---\n",
    "\n",
    "### dfs(node: object, string: str, result: list) -> None\n",
    "Performs a Depth-First Search starting from a given Trie node to collect all complete words beneath that node.\n",
    "\n",
    "- Parameters:\n",
    "\n",
    "    - node: The current TrieNode being explored.\n",
    "    - string: The current prefix string formed so far.\n",
    "    - result: A list to collect completed words.\n",
    "\n",
    "- Behavior:\n",
    "\n",
    "    - If the node marks the end of a word, the accumulated string is added to result.\n",
    "    - Recursively explores each child node by appending its character to the string.\n",
    "\n",
    "Used when generating suggestions based on a prefix.\n",
    "\n",
    "---\n",
    "\n",
    "### sort_chars_lex(s: str) -> str\n",
    "Sorts the characters of a string in lexicographical order.\n",
    "\n",
    "- Example:\n",
    "\n",
    "    - Input: \"wolf\"\n",
    "    - Output: \"flow\"\n",
    "\n",
    "This helps normalize strings for comparison in similarity checks (e.g., when looking for potential matches if a prefix isn't found directly in the trie).\n",
    "\n",
    "---\n",
    "\n",
    "### is_subsequence(small: str, large: str) -> bool\n",
    "Checks whether the string small is a subsequence of the string large.\n",
    "\n",
    "Uses an iterator over large and verifies that all characters of small appear in order within large.\n",
    "\n",
    "- Example:\n",
    "\n",
    "    - is_subsequence(\"flow\", \"flower\") → True\n",
    "    - is_subsequence(\"flw\", \"wolf\") → False\n",
    "\n",
    "Used to suggest words that may not exactly match the input but contain its characters in the same order.\n",
    "\n",
    "---\n",
    "\n",
    "### quicksort_dict_by_value(d: dict) -> list\n",
    "Sorts a dictionary by its values using the Quicksort algorithm.\n",
    "\n",
    "- Parameters:\n",
    "\n",
    "    - d: A dictionary where keys are words and values are their corresponding search counts.\n",
    "\n",
    "- Returns:\n",
    "\n",
    "    - A sorted list of key-value tuples in descending order of frequency.\n",
    "\n",
    "This is critical for ranking search suggestions by popularity.\n",
    "\n"
   ]
  },
  {
   "cell_type": "code",
   "execution_count": 11,
   "id": "0a0594c9-1e63-4d99-a4ef-5b17632141ca",
   "metadata": {},
   "outputs": [],
   "source": [
    "def dfs(node : object, string : str, result : list) -> None:\n",
    "    if node.isEnd:\n",
    "        result.append(string)\n",
    "                \n",
    "    if len(node.children) == 0:\n",
    "        return\n",
    "\n",
    "    for child in node.children.values():\n",
    "        dfs(child, string + child.value, result)\n",
    "\n",
    "def sort_chars_lex(s: str) -> str:\n",
    "    return \"\".join(sorted(s))\n",
    "\n",
    "def is_subsequence(small: str, large: str) -> bool:\n",
    "    it = iter(large)\n",
    "    return all(ch in it for ch in small)\n",
    "\n",
    "def quicksort_dict_by_value(d: dict) -> list:\n",
    "    if len(d) <= 1:\n",
    "        return list(d.items())\n",
    "    \n",
    "    items = list(d.items())\n",
    "    pivot = items[0]\n",
    "    rest = items[1:]\n",
    "\n",
    "    greater = [\n",
    "        item for item in rest\n",
    "        if item[1] > pivot[1] or (item[1] == pivot[1] and item[0] < pivot[0])\n",
    "    ]\n",
    "    lesser = [\n",
    "        item for item in rest\n",
    "        if item[1] < pivot[1] or (item[1] == pivot[1] and item[0] >= pivot[0])\n",
    "    ]\n",
    "\n",
    "    return quicksort_dict_by_value(dict(greater)) + [pivot] + quicksort_dict_by_value(dict(lesser))"
   ]
  },
  {
   "cell_type": "markdown",
   "id": "db104d9d-de01-441e-ad3e-f22dd6546e3c",
   "metadata": {},
   "source": [
    "## Inserting words into the Trie\n",
    "\n",
    "The program reads words from a file named words.txt, stripping any whitespace and storing valid entries in a list. It then initializes a Trie and inserts each word into it, character by character. This builds an efficient prefix tree structure, enabling fast word lookups and autocomplete suggestions based on user input."
   ]
  },
  {
   "cell_type": "code",
   "execution_count": 7,
   "id": "3bcc55d7-6c24-482a-93e8-18f38995202c",
   "metadata": {},
   "outputs": [],
   "source": [
    "words = []\n",
    "#reading the words from the words.txt and storing it in words list\n",
    "with open('words.txt', 'r', encoding='utf-8') as f:\n",
    "    for line in f:\n",
    "        word = line.strip()          \n",
    "        if word:                    \n",
    "            words.append(word)\n",
    "\n",
    "trie = Trie()\n",
    "\n",
    "#inserting the words into the trie\n",
    "for word in words:\n",
    "    trie.insert(word)"
   ]
  },
  {
   "cell_type": "markdown",
   "id": "b3592e30-951e-46a6-8b1f-d2a9a3f0971e",
   "metadata": {},
   "source": [
    "## Word Search\n",
    "\n",
    "The wordSearch function powers the core suggestion logic of the system. Given a user-input string, it searches for matching words in the trie. If exact matches are found (using the prefix), it gathers all possible completions using a depth-first search. If no matches are found, it tries to suggest similar words by checking if the input is a character-wise subsequence of other words that start with the same letter.\n",
    "\n",
    "It then ranks the results based on how frequently each word has been searched, using a quicksort-based sorting algorithm. The top 10 suggestions are displayed, and the user can choose one. The selected word's search count is then updated in the searchedWords dictionary. This makes the system adaptive, promoting frequently chosen words to the top of future suggestions."
   ]
  },
  {
   "cell_type": "code",
   "execution_count": 117,
   "id": "3fdc60cd-91ff-4a9c-88d2-bf7fb6590060",
   "metadata": {},
   "outputs": [],
   "source": [
    "import random\n",
    "\n",
    "def wordSearch(searchString : str, searchedWords : dict, test = False) -> object:\n",
    "    \n",
    "    # to collect the similar words if the searchedString is not present in the words\n",
    "    result = []\n",
    "    currentWordsCount = {}\n",
    "\n",
    "    node = trie.startsWith(searchString)\n",
    "\n",
    "    if not node:\n",
    "        sortedSearchString = sort_chars_lex(searchString)\n",
    "        allwords = []\n",
    "        dfs(trie.startNode, \"\", allwords)\n",
    "        # add words with same starting character as of inputString to a list\n",
    "        for word in allwords:\n",
    "            if word[0] == searchString[0]:\n",
    "                sortedWord = sort_chars_lex(word)\n",
    "                #checking whether the searchedString is a subsequence of the words\n",
    "                if is_subsequence(sortedSearchString, sortedWord):\n",
    "                    result.append(word)\n",
    "\n",
    "        if len(result) > 0:\n",
    "            print(\"Did you mean?\")\n",
    "            \n",
    "        else:\n",
    "            print(\"Enter a valid word... \")\n",
    "            return\n",
    "    \n",
    "    else:\n",
    "        #recursively find all the strings from that common node child\n",
    "        dfs(node, searchString, result)\n",
    "\n",
    "    for word in result:\n",
    "        if word not in searchedWords:\n",
    "            currentWordsCount[word] = 0\n",
    "        else:\n",
    "            currentWordsCount[word] = searchedWords[word]\n",
    "\n",
    "    currentWordsCount = quicksort_dict_by_value(currentWordsCount)\n",
    "    currentWordsCount = dict(currentWordsCount[0:10])\n",
    "\n",
    "    choice = 0\n",
    "\n",
    "    if not test:\n",
    "        if(len(currentWordsCount) == 1):\n",
    "            choice = 1\n",
    "\n",
    "        else:\n",
    "            print(\"Choose a word from the below list you want to search (1 for the 1st word)\")\n",
    "            print(list(currentWordsCount.keys()))\n",
    "            \n",
    "            choice = int(input())\n",
    "    else:\n",
    "        print(\"Choose a word from the below list you want to search (1 for the 1st word)\")\n",
    "        print(list(currentWordsCount.keys()))\n",
    "        choice = random.randint(0, len(currentWordsCount))\n",
    "        \n",
    "    searchedWords[str(list(currentWordsCount.items())[choice - 1][0])] = list(currentWordsCount.items())[choice - 1][1] + 1\n",
    "\n",
    "    print(f\"Searched Words count {searchedWords}\")\n",
    "\n",
    "    "
   ]
  },
  {
   "cell_type": "markdown",
   "id": "b385022b-3ca1-406c-9cb1-29b863ec223b",
   "metadata": {},
   "source": [
    "## Test Scenario\n",
    "\n",
    "Assume we are simulating a search engine. Each time the user types a character, the function wordSearch() is invoked, simulating a search suggestion system. For each invocation, the function returns a list of up to 10 recommended words based on the current input (i.e., the searchString). These suggestions are ordered by how frequently each word has been selected in the past, mimicking how real search engines prioritize popular searches.\n",
    "\n",
    "If the exact word is found in the trie, we retrieve all words that begin with that prefix. Otherwise, we look for words that:\n",
    "\n",
    "- Start with the same character as the input.\n",
    "- Contain all characters of the input in sorted order (i.e., they are an anagram or supersequence).\n",
    "\n",
    "This allows us to suggest similar alternatives when the exact word is not present.\n",
    "\n",
    "From the list of suggestions, the user selects one, and we update its search count in the searchedWords dictionary. Over time, more frequently selected words will rise to the top of the suggestion list.\n",
    "\n",
    "## Automated Testing Behavior\n",
    "For testing purposes (test=True), the selection is automated: a random word from the suggestions is picked instead of prompting for user input. By repeatedly running the function with the same searchString, we can observe how the search counts evolve. As certain words are selected more often, they will appear higher in the list, demonstrating the effect of frequency-based sorting.\n",
    "\n",
    "searchString = \"flow\" is used for the test. There are only 2 words that are prefixed with \"flow\" i.e, \"flower\" and \"flow\". At the start, both counts are 0 and as a random word is chosen, the count starts to increase and the effect of frequecy-based-sorting can be observed.\n",
    "\n",
    "## Test scenarios\n",
    "\n",
    "#### Scenario 1: The searchString exist the in Trie\n",
    "\n",
    "    Input: searchString = \"flow\"\n",
    "\n",
    "    - Call 1 : \n",
    "    Searched Words count {}\n",
    "    Suggestions: ['flow', 'flower']\n",
    "    User picks \"flow\"\n",
    "    Searched Words count {'flow': 1}\n",
    "    \n",
    "    - Call 2\n",
    "    Suggestions: ['flow', 'flower'] (equal frequency, still alphabetical)\n",
    "    User picks \"flower\"\n",
    "    Searched Words count {'flow': 1, 'flower': 1}\n",
    "    \n",
    "    - Call 3\n",
    "    Suggestions: ['flow', 'flower'] (still equal frequency)\n",
    "    User picks \"flower\"\n",
    "    Searched Words count {'flow': 1, 'flower': 2}\n",
    "    \n",
    "    - Call 4\n",
    "    Suggestions: ['flower', 'flow']\n",
    "    \"flower\" now has higher frequency, hence appears first\n",
    "    User picks \"flower\"\n",
    "    Searched Words count {'flow': 1, 'flower': 3}\n",
    "\n",
    "\n",
    "\n",
    "#### Scenario 2: The searchString does not exist in the Trie\n",
    "\n",
    "    Input: searchString = \"ck\"\n",
    "\n",
    "    Since no word in the Trie starts with \"ck\", the function searches for similar words.\n",
    "    - Call 1\n",
    "    Searched Words count {}\n",
    "    Suggestions: ['chalk', 'check', 'cheek', 'chicken', 'chunk', 'clock']\n",
    "    (All have 0 count → alphabetical order)\n",
    "    User picks 'chicken'\n",
    "    Searched Words count {'chicken': 1}\n",
    "    \n",
    "    - Subsequent Calls\n",
    "    As different words are picked, the count increases, and higher-frequency words begin appearing at the top of the list.\n"
   ]
  },
  {
   "cell_type": "code",
   "execution_count": 196,
   "id": "4b535bb0-d856-4289-bb21-394c21bd485b",
   "metadata": {},
   "outputs": [],
   "source": [
    "searchedWords = {}"
   ]
  },
  {
   "cell_type": "code",
   "execution_count": 208,
   "id": "68ca91c5-3ba7-41c0-9fa0-99e9059bd05d",
   "metadata": {},
   "outputs": [
    {
     "name": "stdout",
     "output_type": "stream",
     "text": [
      "Choose a word from the below list you want to search (1 for the 1st word)\n",
      "['chorus', 'choice', 'choose']\n",
      "Searched Words count {'chorus': 7, 'choose': 2, 'choice': 3}\n"
     ]
    }
   ],
   "source": [
    "wordSearch(\"cho\", searchedWords, True)"
   ]
  },
  {
   "cell_type": "markdown",
   "id": "4f8b31f4-0086-4624-a66a-f011139e0ce2",
   "metadata": {},
   "source": [
    "## Actual scenario\n",
    "\n",
    "The program simulates a real-time search suggestion experience. It continuously prompts the user to enter a word or prefix, then calls the wordSearch function to display relevant suggestions from the Trie. The user can interactively choose one of the suggested words, and the system updates the search frequency accordingly in the searchedWords dictionary.\n",
    "\n",
    "This loop continues until the user chooses to stop by entering \"y\" when prompted. Over time, frequently selected words rise to the top of the suggestions, mimicking a search engine’s adaptive behavior."
   ]
  },
  {
   "cell_type": "code",
   "execution_count": 10,
   "id": "dd16ed10",
   "metadata": {},
   "outputs": [
    {
     "name": "stdout",
     "output_type": "stream",
     "text": [
      "-------------------------------------------------------------------------------------\n"
     ]
    },
    {
     "name": "stdin",
     "output_type": "stream",
     "text": [
      "Enter a word to see all the words that starts with it :  flow\n"
     ]
    },
    {
     "name": "stdout",
     "output_type": "stream",
     "text": [
      "\n",
      "Choose a word from the below list you want to search (1 for the 1st word)\n",
      "['flower', 'flow']\n"
     ]
    },
    {
     "name": "stdin",
     "output_type": "stream",
     "text": [
      " 2\n"
     ]
    },
    {
     "name": "stdout",
     "output_type": "stream",
     "text": [
      "Searched Words count {'flow': 1}\n"
     ]
    },
    {
     "name": "stdin",
     "output_type": "stream",
     "text": [
      "Stop searching? y or n:  n\n"
     ]
    },
    {
     "name": "stdout",
     "output_type": "stream",
     "text": [
      "-------------------------------------------------------------------------------------\n"
     ]
    },
    {
     "name": "stdin",
     "output_type": "stream",
     "text": [
      "Enter a word to see all the words that starts with it :  flower\n"
     ]
    },
    {
     "name": "stdout",
     "output_type": "stream",
     "text": [
      "Searched Words count {'flow': 1, 'flower': 1}\n"
     ]
    },
    {
     "name": "stdin",
     "output_type": "stream",
     "text": [
      "Stop searching? y or n:  n\n"
     ]
    },
    {
     "name": "stdout",
     "output_type": "stream",
     "text": [
      "-------------------------------------------------------------------------------------\n"
     ]
    },
    {
     "name": "stdin",
     "output_type": "stream",
     "text": [
      "Enter a word to see all the words that starts with it :  flower\n"
     ]
    },
    {
     "name": "stdout",
     "output_type": "stream",
     "text": [
      "Searched Words count {'flow': 1, 'flower': 2}\n"
     ]
    },
    {
     "name": "stdin",
     "output_type": "stream",
     "text": [
      "Stop searching? y or n:  n\n"
     ]
    },
    {
     "name": "stdout",
     "output_type": "stream",
     "text": [
      "-------------------------------------------------------------------------------------\n"
     ]
    },
    {
     "name": "stdin",
     "output_type": "stream",
     "text": [
      "Enter a word to see all the words that starts with it :  flo\n"
     ]
    },
    {
     "name": "stdout",
     "output_type": "stream",
     "text": [
      "\n",
      "Choose a word from the below list you want to search (1 for the 1st word)\n",
      "['flower', 'flow', 'flock']\n"
     ]
    },
    {
     "name": "stdin",
     "output_type": "stream",
     "text": [
      " 2\n"
     ]
    },
    {
     "name": "stdout",
     "output_type": "stream",
     "text": [
      "Searched Words count {'flow': 2, 'flower': 2}\n"
     ]
    },
    {
     "name": "stdin",
     "output_type": "stream",
     "text": [
      "Stop searching? y or n:  y\n"
     ]
    }
   ],
   "source": [
    "searchedWords = {}\n",
    "while True:\n",
    "    print(\"-------------------------------------------------------------------------------------\")\n",
    "    searchString = input(\"Enter a word to see all the words that starts with it : \")\n",
    "    \n",
    "    wordSearch(searchString, searchedWords)\n",
    "\n",
    "    end = input(\"Stop searching? y or n: \").strip().lower()\n",
    "    if end == \"y\":\n",
    "        break"
   ]
  }
 ],
 "metadata": {
  "kernelspec": {
   "display_name": "Python 3 (ipykernel)",
   "language": "python",
   "name": "python3"
  },
  "language_info": {
   "codemirror_mode": {
    "name": "ipython",
    "version": 3
   },
   "file_extension": ".py",
   "mimetype": "text/x-python",
   "name": "python",
   "nbconvert_exporter": "python",
   "pygments_lexer": "ipython3",
   "version": "3.11.11"
  }
 },
 "nbformat": 4,
 "nbformat_minor": 5
}
